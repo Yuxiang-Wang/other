{
 "cells": [
  {
   "cell_type": "code",
   "execution_count": 1,
   "metadata": {},
   "outputs": [],
   "source": [
    "import math\n",
    "class EquityOption:\n",
    "    r=None\n",
    "    def __init__(self, CallFlag, S, K, T, sigma, **kwargs):\n",
    "        self.CallFlag = CallFlag\n",
    "        self.S = float(S)\n",
    "        self.K = float(K)\n",
    "        self.T = float(T)\n",
    "        self.sigma = float(sigma)\n",
    "        if 'r' in kwargs.keys():\n",
    "            EquityOption.r = float(kwargs.get('r'))\n",
    "        if EquityOption.r==None:\n",
    "            print('risk free rate hasn\\'t been set')\n",
    "        self.div=kwargs.get('div') if 'div' in kwargs.keys() else 0    \n",
    "    \n",
    "    def __str__(self):\n",
    "        return '''CallFlag: {0.CallFlag!s}\\n\n",
    "Spot price: {0.S!s}\\n\n",
    "Strike price: {0.K!s}\\n\n",
    "Time to maturity: {0.T!s}\\n\n",
    "Volatility: {0.sigma!s}\\n\n",
    "Dividend: {0.div!s}\\n\n",
    "Risk free rate: {0.r!s}\\n'''.format(self)\n",
    "    \n",
    "    def __imul__(self, stock_split):\n",
    "        self.S*=stock_split\n",
    "        self.K*=stock_split\n",
    "        return self\n",
    "    \n",
    "    @staticmethod\n",
    "    def d_1BS(S,K,T,sigma,div,r):\n",
    "        return (math.log(S/K)+(r-div+sigma**2/2)*T)/(sigma*math.sqrt(T))\n",
    "\n",
    "    @staticmethod\n",
    "    def d_2BS(S,K,T,sigma,div,r):\n",
    "        return (math.log(S/K)+(r-div-sigma**2/2)*T)/(sigma*math.sqrt(T))\n",
    "    \n",
    "    @staticmethod\n",
    "    def normcdf(d):\n",
    "        return 1/2*(1+math.erf(d/math.sqrt(2)))\n",
    "    \n",
    "    @staticmethod\n",
    "    def normpdf(d):\n",
    "        return 1/(2*math.pi)**0.5*math.exp(-d**2/2)\n",
    "    \n",
    "    def optionPriceBS(self,CallFlag=None, S=None, K=None, T=None, sigma=None, div=None, r=None): \n",
    "        if CallFlag is None:\n",
    "            CallFlag=self.CallFlag\n",
    "        if S is None:\n",
    "            S=self.S\n",
    "        if K is None:\n",
    "            K=self.K\n",
    "        if T is None:\n",
    "            T=self.T\n",
    "        if sigma is None:\n",
    "            sigma=self.sigma\n",
    "        if r is None:\n",
    "            r=EquityOption.r\n",
    "        if div is None:\n",
    "            div=self.div\n",
    "            \n",
    "        d1=EquityOption.d_1BS(S,K,T,sigma,div,r)\n",
    "        d2=EquityOption.d_2BS(S,K,T,sigma,div,r)\n",
    "        if CallFlag=='call':\n",
    "            return S*math.exp(-div*T)*EquityOption.normcdf(d1)-K*math.exp(-r*T)*EquityOption.normcdf(d2)\n",
    "        elif CallFlag=='put':\n",
    "            return -S*math.exp(-div*T)*EquityOption.normcdf(-d1)+K*math.exp(-r*T)*EquityOption.normcdf(-d2)\n",
    "\n",
    "    \n",
    "    def Delta(self,CallFlag=None, S=None, K=None, T=None, sigma=None, div=None, r=None): \n",
    "        if CallFlag is None:\n",
    "            CallFlag=self.CallFlag\n",
    "        if S is None:\n",
    "            S=self.S\n",
    "        if K is None:\n",
    "            K=self.K\n",
    "        if T is None:\n",
    "            T=self.T\n",
    "        if sigma is None:\n",
    "            sigma=self.sigma\n",
    "        if r is None:\n",
    "            r=EquityOption.r\n",
    "        if div is None:\n",
    "            div=self.div\n",
    "        \n",
    "        d1=EquityOption.d_1BS(S,K,T,sigma,div,r)\n",
    "        if CallFlag=='call':\n",
    "            return math.exp(-div*T)* EquityOption.normcdf(d1)\n",
    "        elif CallFlag=='put':\n",
    "            return -math.exp(-div*T)* EquityOption.normcdf(-d1)\n",
    "\n",
    "    def Gamma(self,CallFlag=None, S=None, K=None, T=None, sigma=None, div=None, r=None): \n",
    "        if CallFlag is None:\n",
    "            CallFlag=self.CallFlag\n",
    "        if S is None:\n",
    "            S=self.S\n",
    "        if K is None:\n",
    "            K=self.K\n",
    "        if T is None:\n",
    "            T=self.T\n",
    "        if sigma is None:\n",
    "            sigma=self.sigma\n",
    "        if r is None:\n",
    "            r=EquityOption.r\n",
    "        if div is None:\n",
    "            div=self.div\n",
    "        \n",
    "        d1=EquityOption.d_1BS(S,K,T,sigma,div,r)  \n",
    "        return math.exp(-div*T)/(S*sigma*T**0.5) * EquityOption.normpdf(d1)\n",
    "\n",
    "    def Theta(self,CallFlag=None, S=None, K=None, T=None, sigma=None, div=None, r=None): \n",
    "        if CallFlag is None:\n",
    "            CallFlag=self.CallFlag\n",
    "        if S is None:\n",
    "            S=self.S\n",
    "        if K is None:\n",
    "            K=self.K\n",
    "        if T is None:\n",
    "            T=self.T\n",
    "        if sigma is None:\n",
    "            sigma=self.sigma\n",
    "        if r is None:\n",
    "            r=EquityOption.r\n",
    "        if div is None:\n",
    "            div=self.div\n",
    "        \n",
    "        d1=EquityOption.d_1BS(S,K,T,sigma,div,r)\n",
    "        d2=EquityOption.d_2BS(S,K,T,sigma,div,r)\n",
    "        if CallFlag=='call':\n",
    "            return (-(S*sigma*math.exp(-div*T)/(2*T**0.5))*EquityOption.normpdf(d1)\n",
    "                      -r*K*math.exp(-r*T)*EquityOption.normcdf(d2)\n",
    "                      +div*S*math.exp(-div*T)*EquityOption.normcdf(d1))\n",
    "        elif CallFlag=='put':\n",
    "            return (-(S*sigma*math.exp(-div*T)/(2*T**0.5))*EquityOption.normpdf(d1)\n",
    "                      +r*K*math.exp(-r*T)*EquityOption.normcdf(-d2)\n",
    "                      -div*S*math.exp(-div*T)*EquityOption.normcdf(-d1))\n",
    "                              \n",
    "    def Vega(self,CallFlag=None, S=None, K=None, T=None, sigma=None, div=None, r=None): \n",
    "        if CallFlag is None:\n",
    "            CallFlag=self.CallFlag\n",
    "        if S is None:\n",
    "            S=self.S\n",
    "        if K is None:\n",
    "            K=self.K\n",
    "        if T is None:\n",
    "            T=self.T\n",
    "        if sigma is None:\n",
    "            sigma=self.sigma\n",
    "        if r is None:\n",
    "            r=EquityOption.r\n",
    "        if div is None:\n",
    "            div=self.div\n",
    "            \n",
    "        d1=EquityOption.d_1BS(S,K,T,sigma,div,r)\n",
    "        return S*math.exp(-div*T)*T**0.5*EquityOption.normpdf(d1)\n",
    "        \n",
    "    def setOption(self, CallFlag=None, S=None, K=None, T=None, sigma=None, div=None):\n",
    "        if CallFlag is not None:\n",
    "            self.CallFlag = CallFlag\n",
    "        if S is not None:\n",
    "            self.S = float(S)\n",
    "        if K is not None:\n",
    "            self.K = float(K)\n",
    "        if T is not None:\n",
    "            self.T = float(T)\n",
    "        if sigma is not None:\n",
    "            self.sigma = float(sigma)\n",
    "        if div is not None:\n",
    "            self.div = float(div)\n",
    "\n",
    "    def impliedVolNR(self,marketPrice):\n",
    "        MAXITERATION=100\n",
    "        init=0.5\n",
    "        for i in range(MAXITERATION):\n",
    "            if abs(self.optionPriceBS(sigma=init)-marketPrice)<1e-4:\n",
    "                return init\n",
    "            init = init - (self.optionPriceBS(sigma=init)-marketPrice)/self.Vega(sigma=init)\n",
    "        print(\"Newton-Raphson doesn't converge\")\n",
    "        return -1\n",
    "    \n",
    "    def impliedVolBiset(self,marketPrice):\n",
    "        a=0.001;b=10\n",
    "        c=(a+b)/2\n",
    "        while abs(self.optionPriceBS(sigma=c)-marketPrice)>1e-4:\n",
    "            if (self.optionPriceBS(sigma=a)-marketPrice)*(self.optionPriceBS(sigma=c)-marketPrice)<0:\n",
    "                b=c\n",
    "            elif (self.optionPriceBS(sigma=b)-marketPrice)*(self.optionPriceBS(sigma=c)-marketPrice)<0:\n",
    "                a=c\n",
    "            c=(a+b)/2\n",
    "        return c\n",
    "\n",
    "    @classmethod\n",
    "    def setRiskFree(cls,r):\n",
    "        EquityOption.r=float(r)\n",
    "\n"
   ]
  },
  {
   "cell_type": "code",
   "execution_count": 2,
   "metadata": {},
   "outputs": [
    {
     "data": {
      "text/plain": [
       "0.2530863233764249"
      ]
     },
     "execution_count": 2,
     "metadata": {},
     "output_type": "execute_result"
    }
   ],
   "source": [
    "b=EquityOption('call',35,40,0.3,0.2,r=0.025)\n",
    "b.optionPriceBS()"
   ]
  },
  {
   "cell_type": "code",
   "execution_count": 3,
   "metadata": {},
   "outputs": [
    {
     "name": "stdout",
     "output_type": "stream",
     "text": [
      "CallFlag: call\n",
      "\n",
      "Spot price: 35.0\n",
      "\n",
      "Strike price: 40.0\n",
      "\n",
      "Time to maturity: 0.3\n",
      "\n",
      "Volatility: 0.2\n",
      "\n",
      "Dividend: 0\n",
      "\n",
      "Risk free rate: 0.025\n",
      "\n"
     ]
    }
   ],
   "source": [
    "print(b)"
   ]
  },
  {
   "cell_type": "code",
   "execution_count": 4,
   "metadata": {},
   "outputs": [
    {
     "data": {
      "text/plain": [
       "0.2513083554416511"
      ]
     },
     "execution_count": 4,
     "metadata": {},
     "output_type": "execute_result"
    }
   ],
   "source": [
    "b.impliedVolNR(0.5)"
   ]
  },
  {
   "cell_type": "code",
   "execution_count": 5,
   "metadata": {},
   "outputs": [
    {
     "data": {
      "text/plain": [
       "0.25129540252685545"
      ]
     },
     "execution_count": 5,
     "metadata": {},
     "output_type": "execute_result"
    }
   ],
   "source": [
    "b.impliedVolBiset(0.5)"
   ]
  },
  {
   "cell_type": "code",
   "execution_count": 6,
   "metadata": {},
   "outputs": [
    {
     "name": "stdout",
     "output_type": "stream",
     "text": [
      "Delta:  0.13659810525776656\n",
      "Gamma:  0.05708714908800696\n",
      "Theta:  -1.5118313366723055\n",
      "Vega:  4.195905457968511\n"
     ]
    }
   ],
   "source": [
    "print('Delta: ',b.Delta())\n",
    "print('Gamma: ',b.Gamma())\n",
    "print('Theta: ',b.Theta())\n",
    "print('Vega: ',b.Vega())"
   ]
  },
  {
   "cell_type": "code",
   "execution_count": 7,
   "metadata": {},
   "outputs": [
    {
     "name": "stdout",
     "output_type": "stream",
     "text": [
      "CallFlag: call\n",
      "\n",
      "Spot price: 17.5\n",
      "\n",
      "Strike price: 20.0\n",
      "\n",
      "Time to maturity: 0.3\n",
      "\n",
      "Volatility: 0.2\n",
      "\n",
      "Dividend: 0\n",
      "\n",
      "Risk free rate: 0.025\n",
      "\n"
     ]
    }
   ],
   "source": [
    "b*=0.5\n",
    "print(b)"
   ]
  },
  {
   "cell_type": "code",
   "execution_count": 8,
   "metadata": {},
   "outputs": [
    {
     "data": {
      "text/plain": [
       "2.062494322794471"
      ]
     },
     "execution_count": 8,
     "metadata": {},
     "output_type": "execute_result"
    }
   ],
   "source": [
    "c=EquityOption('put',50,50,0.3,0.2,r=0.025,div=0.01)\n",
    "c.optionPriceBS()"
   ]
  },
  {
   "cell_type": "code",
   "execution_count": 9,
   "metadata": {},
   "outputs": [
    {
     "data": {
      "text/plain": [
       "3.146134125438188"
      ]
     },
     "execution_count": 9,
     "metadata": {},
     "output_type": "execute_result"
    }
   ],
   "source": [
    "c.optionPriceBS(sigma=0.3)"
   ]
  },
  {
   "cell_type": "code",
   "execution_count": 10,
   "metadata": {},
   "outputs": [
    {
     "name": "stdout",
     "output_type": "stream",
     "text": [
      "Delta:  -0.4604358963663501\n",
      "Gamma:  0.07228555415237777\n",
      "Theta:  -3.217388427274263\n",
      "Vega:  10.84283312285666\n"
     ]
    }
   ],
   "source": [
    "print('Delta: ',c.Delta())\n",
    "print('Gamma: ',c.Gamma())\n",
    "print('Theta: ',c.Theta())\n",
    "print('Vega: ',c.Vega())"
   ]
  },
  {
   "cell_type": "code",
   "execution_count": 11,
   "metadata": {},
   "outputs": [
    {
     "name": "stdout",
     "output_type": "stream",
     "text": [
      "CallFlag: put\n",
      "\n",
      "Spot price: 50.0\n",
      "\n",
      "Strike price: 50.0\n",
      "\n",
      "Time to maturity: 0.3\n",
      "\n",
      "Volatility: 0.2\n",
      "\n",
      "Dividend: 0.01\n",
      "\n",
      "Risk free rate: 0.025\n",
      "\n"
     ]
    }
   ],
   "source": [
    "print(c)"
   ]
  },
  {
   "cell_type": "code",
   "execution_count": 12,
   "metadata": {},
   "outputs": [
    {
     "name": "stdout",
     "output_type": "stream",
     "text": [
      "CallFlag: put\n",
      "\n",
      "Spot price: 16.666666666666664\n",
      "\n",
      "Strike price: 16.666666666666664\n",
      "\n",
      "Time to maturity: 0.3\n",
      "\n",
      "Volatility: 0.2\n",
      "\n",
      "Dividend: 0.01\n",
      "\n",
      "Risk free rate: 0.025\n",
      "\n"
     ]
    }
   ],
   "source": [
    "c*=1/3\n",
    "print(c)"
   ]
  }
 ],
 "metadata": {
  "kernelspec": {
   "display_name": "Python 3",
   "language": "python",
   "name": "python3"
  },
  "language_info": {
   "codemirror_mode": {
    "name": "ipython",
    "version": 3
   },
   "file_extension": ".py",
   "mimetype": "text/x-python",
   "name": "python",
   "nbconvert_exporter": "python",
   "pygments_lexer": "ipython3",
   "version": "3.7.0"
  }
 },
 "nbformat": 4,
 "nbformat_minor": 2
}
