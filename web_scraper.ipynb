{
 "cells": [
  {
   "cell_type": "code",
   "execution_count": 1,
   "metadata": {},
   "outputs": [],
   "source": [
    "import pandas as pd\n",
    "from bs4 import BeautifulSoup\n",
    "import urllib.request\n",
    "from threading import Thread\n",
    "from time import time\n",
    "from concurrent.futures import ThreadPoolExecutor\n",
    "import wikipedia as wp"
   ]
  },
  {
   "cell_type": "markdown",
   "metadata": {},
   "source": [
    "##### get current constituents and historical changes of SP500 from wikipedia"
   ]
  },
  {
   "cell_type": "code",
   "execution_count": 2,
   "metadata": {},
   "outputs": [
    {
     "data": {
      "text/plain": [
       "2"
      ]
     },
     "execution_count": 2,
     "metadata": {},
     "output_type": "execute_result"
    }
   ],
   "source": [
    "url = 'https://en.wikipedia.org/wiki/List_of_S%26P_500_companies'\n",
    "tables = pd.pandas.read_html(url)\n",
    "len(tables)"
   ]
  },
  {
   "cell_type": "code",
   "execution_count": 3,
   "metadata": {},
   "outputs": [
    {
     "data": {
      "text/html": [
       "<div>\n",
       "<style scoped>\n",
       "    .dataframe tbody tr th:only-of-type {\n",
       "        vertical-align: middle;\n",
       "    }\n",
       "\n",
       "    .dataframe tbody tr th {\n",
       "        vertical-align: top;\n",
       "    }\n",
       "\n",
       "    .dataframe thead th {\n",
       "        text-align: right;\n",
       "    }\n",
       "</style>\n",
       "<table border=\"1\" class=\"dataframe\">\n",
       "  <thead>\n",
       "    <tr style=\"text-align: right;\">\n",
       "      <th></th>\n",
       "      <th>Symbol</th>\n",
       "      <th>Security</th>\n",
       "      <th>SEC filings</th>\n",
       "      <th>GICS Sector</th>\n",
       "      <th>GICS Sub Industry</th>\n",
       "      <th>Headquarters Location</th>\n",
       "      <th>Date first added</th>\n",
       "      <th>CIK</th>\n",
       "      <th>Founded</th>\n",
       "    </tr>\n",
       "  </thead>\n",
       "  <tbody>\n",
       "    <tr>\n",
       "      <th>0</th>\n",
       "      <td>MMM</td>\n",
       "      <td>3M Company</td>\n",
       "      <td>reports</td>\n",
       "      <td>Industrials</td>\n",
       "      <td>Industrial Conglomerates</td>\n",
       "      <td>St. Paul, Minnesota</td>\n",
       "      <td>NaN</td>\n",
       "      <td>66740</td>\n",
       "      <td>1902</td>\n",
       "    </tr>\n",
       "    <tr>\n",
       "      <th>1</th>\n",
       "      <td>ABT</td>\n",
       "      <td>Abbott Laboratories</td>\n",
       "      <td>reports</td>\n",
       "      <td>Health Care</td>\n",
       "      <td>Health Care Equipment</td>\n",
       "      <td>North Chicago, Illinois</td>\n",
       "      <td>1964-03-31</td>\n",
       "      <td>1800</td>\n",
       "      <td>1888</td>\n",
       "    </tr>\n",
       "    <tr>\n",
       "      <th>2</th>\n",
       "      <td>ABBV</td>\n",
       "      <td>AbbVie Inc.</td>\n",
       "      <td>reports</td>\n",
       "      <td>Health Care</td>\n",
       "      <td>Pharmaceuticals</td>\n",
       "      <td>North Chicago, Illinois</td>\n",
       "      <td>2012-12-31</td>\n",
       "      <td>1551152</td>\n",
       "      <td>2013 (1888)</td>\n",
       "    </tr>\n",
       "    <tr>\n",
       "      <th>3</th>\n",
       "      <td>ABMD</td>\n",
       "      <td>ABIOMED Inc</td>\n",
       "      <td>reports</td>\n",
       "      <td>Health Care</td>\n",
       "      <td>Health Care Equipment</td>\n",
       "      <td>Danvers, Massachusetts</td>\n",
       "      <td>2018-05-31</td>\n",
       "      <td>815094</td>\n",
       "      <td>1981</td>\n",
       "    </tr>\n",
       "    <tr>\n",
       "      <th>4</th>\n",
       "      <td>ACN</td>\n",
       "      <td>Accenture plc</td>\n",
       "      <td>reports</td>\n",
       "      <td>Information Technology</td>\n",
       "      <td>IT Consulting &amp; Other Services</td>\n",
       "      <td>Dublin, Ireland</td>\n",
       "      <td>2011-07-06</td>\n",
       "      <td>1467373</td>\n",
       "      <td>1989</td>\n",
       "    </tr>\n",
       "  </tbody>\n",
       "</table>\n",
       "</div>"
      ],
      "text/plain": [
       "  Symbol             Security SEC filings             GICS Sector  \\\n",
       "0    MMM           3M Company     reports             Industrials   \n",
       "1    ABT  Abbott Laboratories     reports             Health Care   \n",
       "2   ABBV          AbbVie Inc.     reports             Health Care   \n",
       "3   ABMD          ABIOMED Inc     reports             Health Care   \n",
       "4    ACN        Accenture plc     reports  Information Technology   \n",
       "\n",
       "                GICS Sub Industry    Headquarters Location Date first added  \\\n",
       "0        Industrial Conglomerates      St. Paul, Minnesota              NaN   \n",
       "1           Health Care Equipment  North Chicago, Illinois       1964-03-31   \n",
       "2                 Pharmaceuticals  North Chicago, Illinois       2012-12-31   \n",
       "3           Health Care Equipment   Danvers, Massachusetts       2018-05-31   \n",
       "4  IT Consulting & Other Services          Dublin, Ireland       2011-07-06   \n",
       "\n",
       "       CIK      Founded  \n",
       "0    66740         1902  \n",
       "1     1800         1888  \n",
       "2  1551152  2013 (1888)  \n",
       "3   815094         1981  \n",
       "4  1467373         1989  "
      ]
     },
     "execution_count": 3,
     "metadata": {},
     "output_type": "execute_result"
    }
   ],
   "source": [
    "tables[0].head()"
   ]
  },
  {
   "cell_type": "code",
   "execution_count": 4,
   "metadata": {},
   "outputs": [
    {
     "data": {
      "text/html": [
       "<div>\n",
       "<style scoped>\n",
       "    .dataframe tbody tr th:only-of-type {\n",
       "        vertical-align: middle;\n",
       "    }\n",
       "\n",
       "    .dataframe tbody tr th {\n",
       "        vertical-align: top;\n",
       "    }\n",
       "\n",
       "    .dataframe thead tr th {\n",
       "        text-align: left;\n",
       "    }\n",
       "</style>\n",
       "<table border=\"1\" class=\"dataframe\">\n",
       "  <thead>\n",
       "    <tr>\n",
       "      <th></th>\n",
       "      <th>Date</th>\n",
       "      <th colspan=\"2\" halign=\"left\">Added</th>\n",
       "      <th colspan=\"2\" halign=\"left\">Removed</th>\n",
       "      <th>Reason</th>\n",
       "    </tr>\n",
       "    <tr>\n",
       "      <th></th>\n",
       "      <th>Date</th>\n",
       "      <th>Ticker</th>\n",
       "      <th>Security</th>\n",
       "      <th>Ticker</th>\n",
       "      <th>Security</th>\n",
       "      <th>Reason</th>\n",
       "    </tr>\n",
       "  </thead>\n",
       "  <tbody>\n",
       "    <tr>\n",
       "      <th>0</th>\n",
       "      <td>April 2, 2019</td>\n",
       "      <td>DOW</td>\n",
       "      <td>Dow Inc.</td>\n",
       "      <td>BHF</td>\n",
       "      <td>Brighthouse Financial</td>\n",
       "      <td>DOW spun off from DWDP[7]</td>\n",
       "    </tr>\n",
       "    <tr>\n",
       "      <th>1</th>\n",
       "      <td>February 27, 2019</td>\n",
       "      <td>WAB</td>\n",
       "      <td>Wabtec Corporation</td>\n",
       "      <td>GT</td>\n",
       "      <td>The Goodyear Tire &amp; Rubber Company</td>\n",
       "      <td>WAB acquiring GE transportation business[8]</td>\n",
       "    </tr>\n",
       "    <tr>\n",
       "      <th>2</th>\n",
       "      <td>February 15, 2019</td>\n",
       "      <td>ATO</td>\n",
       "      <td>Atmos Energy Corp</td>\n",
       "      <td>NFX</td>\n",
       "      <td>Newfield Exploration</td>\n",
       "      <td>ECA acquiring NFX[9]</td>\n",
       "    </tr>\n",
       "    <tr>\n",
       "      <th>3</th>\n",
       "      <td>January 18, 2019</td>\n",
       "      <td>TFX</td>\n",
       "      <td>Teleflex Inc</td>\n",
       "      <td>PCG</td>\n",
       "      <td>PG&amp;E Corp</td>\n",
       "      <td>PCG filing for bankruptcy[10]</td>\n",
       "    </tr>\n",
       "    <tr>\n",
       "      <th>4</th>\n",
       "      <td>January 2, 2019</td>\n",
       "      <td>FRC</td>\n",
       "      <td>First Republic Bank</td>\n",
       "      <td>SCG</td>\n",
       "      <td>SCANA</td>\n",
       "      <td>Dominion Energy acquiring SCANA Corporation[11]</td>\n",
       "    </tr>\n",
       "  </tbody>\n",
       "</table>\n",
       "</div>"
      ],
      "text/plain": [
       "                Date  Added                      Removed  \\\n",
       "                Date Ticker             Security  Ticker   \n",
       "0      April 2, 2019    DOW             Dow Inc.     BHF   \n",
       "1  February 27, 2019    WAB   Wabtec Corporation      GT   \n",
       "2  February 15, 2019    ATO    Atmos Energy Corp     NFX   \n",
       "3   January 18, 2019    TFX         Teleflex Inc     PCG   \n",
       "4    January 2, 2019    FRC  First Republic Bank     SCG   \n",
       "\n",
       "                                       \\\n",
       "                             Security   \n",
       "0               Brighthouse Financial   \n",
       "1  The Goodyear Tire & Rubber Company   \n",
       "2                Newfield Exploration   \n",
       "3                           PG&E Corp   \n",
       "4                               SCANA   \n",
       "\n",
       "                                            Reason  \n",
       "                                            Reason  \n",
       "0                        DOW spun off from DWDP[7]  \n",
       "1      WAB acquiring GE transportation business[8]  \n",
       "2                             ECA acquiring NFX[9]  \n",
       "3                    PCG filing for bankruptcy[10]  \n",
       "4  Dominion Energy acquiring SCANA Corporation[11]  "
      ]
     },
     "execution_count": 4,
     "metadata": {},
     "output_type": "execute_result"
    }
   ],
   "source": [
    "tables[1].head()"
   ]
  },
  {
   "cell_type": "markdown",
   "metadata": {},
   "source": [
    "##### get info box on wikipedia"
   ]
  },
  {
   "cell_type": "code",
   "execution_count": 5,
   "metadata": {},
   "outputs": [],
   "source": [
    "#page = wp.page('IBM')\n",
    "#url = page.url\n",
    "\n",
    "url='https://en.wikipedia.org/wiki/IBM'\n",
    "response = urllib.request.urlopen(url)\n",
    "text = response.read()\n",
    "soup = BeautifulSoup(text, 'html.parser')"
   ]
  },
  {
   "cell_type": "code",
   "execution_count": 6,
   "metadata": {},
   "outputs": [
    {
     "data": {
      "text/html": [
       "<div>\n",
       "<style scoped>\n",
       "    .dataframe tbody tr th:only-of-type {\n",
       "        vertical-align: middle;\n",
       "    }\n",
       "\n",
       "    .dataframe tbody tr th {\n",
       "        vertical-align: top;\n",
       "    }\n",
       "\n",
       "    .dataframe thead th {\n",
       "        text-align: right;\n",
       "    }\n",
       "</style>\n",
       "<table border=\"1\" class=\"dataframe\">\n",
       "  <thead>\n",
       "    <tr style=\"text-align: right;\">\n",
       "      <th></th>\n",
       "      <th>0</th>\n",
       "      <th>1</th>\n",
       "    </tr>\n",
       "  </thead>\n",
       "  <tbody>\n",
       "    <tr>\n",
       "      <th>0</th>\n",
       "      <td>NaN</td>\n",
       "      <td>NaN</td>\n",
       "    </tr>\n",
       "    <tr>\n",
       "      <th>1</th>\n",
       "      <td>IBM headquarters in Armonk, New York.</td>\n",
       "      <td>IBM headquarters in Armonk, New York.</td>\n",
       "    </tr>\n",
       "    <tr>\n",
       "      <th>2</th>\n",
       "      <td>Type</td>\n",
       "      <td>Public company</td>\n",
       "    </tr>\n",
       "    <tr>\n",
       "      <th>3</th>\n",
       "      <td>Traded as</td>\n",
       "      <td>NYSE: IBMDJIA ComponentS&amp;P 100 ComponentS&amp;P 50...</td>\n",
       "    </tr>\n",
       "    <tr>\n",
       "      <th>4</th>\n",
       "      <td>ISIN</td>\n",
       "      <td>US4592001014</td>\n",
       "    </tr>\n",
       "    <tr>\n",
       "      <th>5</th>\n",
       "      <td>Industry</td>\n",
       "      <td>Cloud computingComputer hardwareComputer softw...</td>\n",
       "    </tr>\n",
       "    <tr>\n",
       "      <th>6</th>\n",
       "      <td>Founded</td>\n",
       "      <td>June 16, 1911; 107 years agoComputing-Tabulati...</td>\n",
       "    </tr>\n",
       "    <tr>\n",
       "      <th>7</th>\n",
       "      <td>Founders</td>\n",
       "      <td>Charles Ranlett FlintThomas J. Watson Sr.</td>\n",
       "    </tr>\n",
       "    <tr>\n",
       "      <th>8</th>\n",
       "      <td>Headquarters</td>\n",
       "      <td>Armonk, New York, U.S.</td>\n",
       "    </tr>\n",
       "    <tr>\n",
       "      <th>9</th>\n",
       "      <td>Area served</td>\n",
       "      <td>177 countries[2]</td>\n",
       "    </tr>\n",
       "    <tr>\n",
       "      <th>10</th>\n",
       "      <td>Key people</td>\n",
       "      <td>Ginni Rometty(Chairman, President and CEO)</td>\n",
       "    </tr>\n",
       "    <tr>\n",
       "      <th>11</th>\n",
       "      <td>Products</td>\n",
       "      <td>See IBM products</td>\n",
       "    </tr>\n",
       "    <tr>\n",
       "      <th>12</th>\n",
       "      <td>Revenue</td>\n",
       "      <td>US$79.59 billion (2018)[3]</td>\n",
       "    </tr>\n",
       "    <tr>\n",
       "      <th>13</th>\n",
       "      <td>Operating income</td>\n",
       "      <td>US$13.21 billion (2018)[3]</td>\n",
       "    </tr>\n",
       "    <tr>\n",
       "      <th>14</th>\n",
       "      <td>Net income</td>\n",
       "      <td>US$8.72 billion (2018)[3]</td>\n",
       "    </tr>\n",
       "    <tr>\n",
       "      <th>15</th>\n",
       "      <td>Total assets</td>\n",
       "      <td>US$123.38 billion (2018)[3]</td>\n",
       "    </tr>\n",
       "    <tr>\n",
       "      <th>16</th>\n",
       "      <td>Total equity</td>\n",
       "      <td>US$16.79 billion (2018)[3]</td>\n",
       "    </tr>\n",
       "    <tr>\n",
       "      <th>17</th>\n",
       "      <td>Number of employees</td>\n",
       "      <td>350,600 (2018)[4]</td>\n",
       "    </tr>\n",
       "    <tr>\n",
       "      <th>18</th>\n",
       "      <td>Website</td>\n",
       "      <td>www.ibm.com</td>\n",
       "    </tr>\n",
       "  </tbody>\n",
       "</table>\n",
       "</div>"
      ],
      "text/plain": [
       "                                        0  \\\n",
       "0                                     NaN   \n",
       "1   IBM headquarters in Armonk, New York.   \n",
       "2                                    Type   \n",
       "3                               Traded as   \n",
       "4                                    ISIN   \n",
       "5                                Industry   \n",
       "6                                 Founded   \n",
       "7                                Founders   \n",
       "8                            Headquarters   \n",
       "9                             Area served   \n",
       "10                             Key people   \n",
       "11                               Products   \n",
       "12                                Revenue   \n",
       "13                       Operating income   \n",
       "14                             Net income   \n",
       "15                           Total assets   \n",
       "16                           Total equity   \n",
       "17                    Number of employees   \n",
       "18                                Website   \n",
       "\n",
       "                                                    1  \n",
       "0                                                 NaN  \n",
       "1               IBM headquarters in Armonk, New York.  \n",
       "2                                      Public company  \n",
       "3   NYSE: IBMDJIA ComponentS&P 100 ComponentS&P 50...  \n",
       "4                                        US4592001014  \n",
       "5   Cloud computingComputer hardwareComputer softw...  \n",
       "6   June 16, 1911; 107 years agoComputing-Tabulati...  \n",
       "7           Charles Ranlett FlintThomas J. Watson Sr.  \n",
       "8                              Armonk, New York, U.S.  \n",
       "9                                    177 countries[2]  \n",
       "10         Ginni Rometty(Chairman, President and CEO)  \n",
       "11                                   See IBM products  \n",
       "12                         US$79.59 billion (2018)[3]  \n",
       "13                         US$13.21 billion (2018)[3]  \n",
       "14                          US$8.72 billion (2018)[3]  \n",
       "15                        US$123.38 billion (2018)[3]  \n",
       "16                         US$16.79 billion (2018)[3]  \n",
       "17                                  350,600 (2018)[4]  \n",
       "18                                        www.ibm.com  "
      ]
     },
     "execution_count": 6,
     "metadata": {},
     "output_type": "execute_result"
    }
   ],
   "source": [
    "pd.read_html(url)[0]"
   ]
  },
  {
   "cell_type": "markdown",
   "metadata": {},
   "source": [
    "###### don't use pandas.read_html"
   ]
  },
  {
   "cell_type": "markdown",
   "metadata": {},
   "source": [
    "you can ues this approach to scrap other things not in a table"
   ]
  },
  {
   "cell_type": "code",
   "execution_count": 7,
   "metadata": {},
   "outputs": [],
   "source": [
    "# soup is in BeautifulSoup\n",
    "tr = soup.find(\"table\",\"infobox vcard\").find_all(\"tr\")  # find all needed info in infobox card"
   ]
  },
  {
   "cell_type": "code",
   "execution_count": 8,
   "metadata": {},
   "outputs": [
    {
     "data": {
      "text/plain": [
       "(19,\n",
       " <tr><th scope=\"row\" style=\"padding-right:0.5em;\">Website</th><td style=\"line-height:1.35em;\"><span class=\"url\"><a class=\"external text\" href=\"https://www.ibm.com/us-en/\" rel=\"nofollow\">www.ibm.com</a></span></td></tr>)"
      ]
     },
     "execution_count": 8,
     "metadata": {},
     "output_type": "execute_result"
    }
   ],
   "source": [
    "len(tr),tr[-1]"
   ]
  },
  {
   "cell_type": "code",
   "execution_count": 9,
   "metadata": {},
   "outputs": [
    {
     "data": {
      "text/plain": [
       "'Websitewww.ibm.com'"
      ]
     },
     "execution_count": 9,
     "metadata": {},
     "output_type": "execute_result"
    }
   ],
   "source": [
    "tr[-1].get_text()"
   ]
  },
  {
   "cell_type": "code",
   "execution_count": 10,
   "metadata": {},
   "outputs": [
    {
     "data": {
      "text/plain": [
       "('Website', 'www.ibm.com')"
      ]
     },
     "execution_count": 10,
     "metadata": {},
     "output_type": "execute_result"
    }
   ],
   "source": [
    "tr[-1].find(\"th\").get_text(), tr[-1].find(\"td\").get_text()"
   ]
  },
  {
   "cell_type": "code",
   "execution_count": 11,
   "metadata": {},
   "outputs": [],
   "source": [
    "def get_infobox(name):\n",
    "    try:\n",
    "        page = wp.page(name) # get wikipedia search result page\n",
    "    except:\n",
    "        return \n",
    "    url = page.url\n",
    "    response = urllib.request.urlopen(url)\n",
    "    text = response.read()\n",
    "    soup = BeautifulSoup(text, 'html.parser')\n",
    "    \n",
    "    try:\n",
    "        tr = soup.find(\"table\",\"infobox vcard\").find_all(\"tr\")  # find all needed info in infobox card\n",
    "        title=[]\n",
    "        content=[]\n",
    "        for i in tr[2:]:\n",
    "            t = i.find(\"th\").get_text()\n",
    "            c = i.find(\"td\").get_text()\n",
    "            \n",
    "            #string parser\n",
    "            if c[0]=='\\n':\n",
    "                c=c[1:]\n",
    "            if c[-1]=='\\n':\n",
    "                c=c[:-1]\n",
    "            c=c.replace('\\n',',')           \n",
    "            t=t.replace('\\xa0',' ')\n",
    "            c=c.replace('\\xa0',' ')\n",
    "            while(c.find('[')!=-1):\n",
    "                c=c.replace(c[c.find('['):c.find(']')+1],'')\n",
    "                \n",
    "            title.append(t)\n",
    "            content.append(c)\n",
    "        d = dict(zip(title,content))\n",
    "    except:\n",
    "        return \n",
    "\n",
    "    return d"
   ]
  },
  {
   "cell_type": "code",
   "execution_count": 12,
   "metadata": {},
   "outputs": [
    {
     "data": {
      "text/plain": [
       "{'Type': 'Public company',\n",
       " 'Traded as': 'NYSE: IBMDJIA ComponentS&P 100 ComponentS&P 500 Component',\n",
       " 'ISIN': 'US4592001014',\n",
       " 'Industry': 'Cloud computingComputer hardwareComputer softwareCognitive computing',\n",
       " 'Founded': 'June 16, 1911; 107 years ago (1911-06-16) (as Computing-Tabulating-Recording Company)Endicott, New York, U.S.',\n",
       " 'Founders': 'Charles Ranlett FlintThomas J. Watson Sr.',\n",
       " 'Headquarters': 'Armonk, New York, U.S.',\n",
       " 'Area served': '177 countries',\n",
       " 'Key people': 'Ginni Rometty(Chairman, President and CEO)',\n",
       " 'Products': 'See IBM products',\n",
       " 'Revenue': ' US$79.59 billion (2018)',\n",
       " 'Operating income': ' US$13.21 billion (2018)',\n",
       " 'Net income': ' US$8.72 billion (2018)',\n",
       " 'Total assets': ' US$123.38 billion (2018)',\n",
       " 'Total equity': ' US$16.79 billion (2018)',\n",
       " 'Number of employees': '350,600 (2018)',\n",
       " 'Website': 'www.ibm.com'}"
      ]
     },
     "execution_count": 12,
     "metadata": {},
     "output_type": "execute_result"
    }
   ],
   "source": [
    "d=get_infobox('IBM'); d"
   ]
  },
  {
   "cell_type": "markdown",
   "metadata": {},
   "source": [
    "###### Use multithread"
   ]
  },
  {
   "cell_type": "code",
   "execution_count": 13,
   "metadata": {},
   "outputs": [],
   "source": [
    "def get_infobox_for_thread(name,d):\n",
    "    d[name]=get_infobox(name)\n",
    "     #global n\n",
    "     #n+=1\n",
    "     #if not n%100:\n",
    "     #    print(n)\n",
    "\n",
    "def get_infobox_for_thread_2(name):\n",
    "    global dth\n",
    "    dth[name]=get_infobox(name)"
   ]
  },
  {
   "cell_type": "code",
   "execution_count": 14,
   "metadata": {},
   "outputs": [
    {
     "data": {
      "text/plain": [
       "{'IBM': {'Type': 'Public company',\n",
       "  'Traded as': 'NYSE: IBMDJIA ComponentS&P 100 ComponentS&P 500 Component',\n",
       "  'ISIN': 'US4592001014',\n",
       "  'Industry': 'Cloud computingComputer hardwareComputer softwareCognitive computing',\n",
       "  'Founded': 'June 16, 1911; 107 years ago (1911-06-16) (as Computing-Tabulating-Recording Company)Endicott, New York, U.S.',\n",
       "  'Founders': 'Charles Ranlett FlintThomas J. Watson Sr.',\n",
       "  'Headquarters': 'Armonk, New York, U.S.',\n",
       "  'Area served': '177 countries',\n",
       "  'Key people': 'Ginni Rometty(Chairman, President and CEO)',\n",
       "  'Products': 'See IBM products',\n",
       "  'Revenue': ' US$79.59 billion (2018)',\n",
       "  'Operating income': ' US$13.21 billion (2018)',\n",
       "  'Net income': ' US$8.72 billion (2018)',\n",
       "  'Total assets': ' US$123.38 billion (2018)',\n",
       "  'Total equity': ' US$16.79 billion (2018)',\n",
       "  'Number of employees': '350,600 (2018)',\n",
       "  'Website': 'www.ibm.com'},\n",
       " 'Microsoft': {'Type': 'Public',\n",
       "  'Traded as': 'NASDAQ: MSFTNASDAQ-100 componentDJIA componentS&P 100 componentS&P 500 component',\n",
       "  'ISIN': 'US5949181045',\n",
       "  'Industry': 'Computer softwareComputer hardwareConsumer electronicsSocial networking serviceCloud computingVideo gamesInternetCorporate venture capital',\n",
       "  'Founded': 'April 4, 1975; 44 years ago (1975-04-04) in Albuquerque, New Mexico, U.S.',\n",
       "  'Founders': 'Bill Gates,Paul Allen',\n",
       "  'Headquarters': 'One Microsoft Way, Redmond, Washington, U.S.',\n",
       "  'Area served': 'Worldwide',\n",
       "  'Key people': 'John W. Thompson(Chairman),Brad Smith(President),Satya Nadella(CEO),Bill Gates(Technical Advisor)',\n",
       "  'Products': 'Windows,Office,Servers,Skype,Visual Studio,Dynamics,Xbox,Surface,Mobile,List of software',\n",
       "  'Services': 'Azure,Bing,LinkedIn,MSDN,Office 365,OneDrive,Outlook.com,TechNet,Wallet,Windows Store,Windows Update,Xbox Live',\n",
       "  'Revenue': ' US$110.36 billion (2018)',\n",
       "  'Operating income': ' US$35.05 billion (2018)',\n",
       "  'Net income': ' US$16.57 billion (2018)',\n",
       "  'Total assets': ' US$258.84 billion (2018)',\n",
       "  'Total equity': ' US$82.71 billion (2018)',\n",
       "  'Number of employees': ' 134,944 (2018)',\n",
       "  'Subsidiaries': 'List of Microsoft assets',\n",
       "  'Website': 'microsoft.com'},\n",
       " 'GOOGLE': {'Formerly': 'Google Inc. (1998–2017)',\n",
       "  'Type': 'Subsidiary',\n",
       "  'Industry': 'InternetSoftwareComputer hardware',\n",
       "  'Founded': 'September 4, 1998; 20 years ago (1998-09-04) in Menlo Park, California',\n",
       "  'Founders': 'Larry PageSergey Brin',\n",
       "  'Headquarters': '1600 Amphitheatre Parkway, Mountain View, California, U.S.',\n",
       "  'Area served': 'Worldwide',\n",
       "  'Key people': 'Sundar Pichai (CEO)Ruth Porat (CFO)',\n",
       "  'Products': 'List of Google products',\n",
       "  'Number of employees': '98,771 (Q4 2018)',\n",
       "  'Parent': 'Alphabet Inc. (2015–present)',\n",
       "  'Subsidiaries': 'List of subsidiaries',\n",
       "  'Website': 'google.com'}}"
      ]
     },
     "execution_count": 14,
     "metadata": {},
     "output_type": "execute_result"
    }
   ],
   "source": [
    "# get_infobox_for_thread\n",
    "\n",
    "#n=0        \n",
    "dth={}\n",
    "threadlist=[]\n",
    "for i in ['IBM','GOOGLE','Microsoft']:\n",
    "    t = Thread(target=get_infobox_for_thread,args=(i,dth))\n",
    "    t.start()\n",
    "    threadlist.append(t)\n",
    "for i in threadlist:\n",
    "    i.join()\n",
    "dth"
   ]
  },
  {
   "cell_type": "code",
   "execution_count": 15,
   "metadata": {},
   "outputs": [
    {
     "data": {
      "text/plain": [
       "{'IBM': {'Type': 'Public company',\n",
       "  'Traded as': 'NYSE: IBMDJIA ComponentS&P 100 ComponentS&P 500 Component',\n",
       "  'ISIN': 'US4592001014',\n",
       "  'Industry': 'Cloud computingComputer hardwareComputer softwareCognitive computing',\n",
       "  'Founded': 'June 16, 1911; 107 years ago (1911-06-16) (as Computing-Tabulating-Recording Company)Endicott, New York, U.S.',\n",
       "  'Founders': 'Charles Ranlett FlintThomas J. Watson Sr.',\n",
       "  'Headquarters': 'Armonk, New York, U.S.',\n",
       "  'Area served': '177 countries',\n",
       "  'Key people': 'Ginni Rometty(Chairman, President and CEO)',\n",
       "  'Products': 'See IBM products',\n",
       "  'Revenue': ' US$79.59 billion (2018)',\n",
       "  'Operating income': ' US$13.21 billion (2018)',\n",
       "  'Net income': ' US$8.72 billion (2018)',\n",
       "  'Total assets': ' US$123.38 billion (2018)',\n",
       "  'Total equity': ' US$16.79 billion (2018)',\n",
       "  'Number of employees': '350,600 (2018)',\n",
       "  'Website': 'www.ibm.com'},\n",
       " 'Microsoft': {'Type': 'Public',\n",
       "  'Traded as': 'NASDAQ: MSFTNASDAQ-100 componentDJIA componentS&P 100 componentS&P 500 component',\n",
       "  'ISIN': 'US5949181045',\n",
       "  'Industry': 'Computer softwareComputer hardwareConsumer electronicsSocial networking serviceCloud computingVideo gamesInternetCorporate venture capital',\n",
       "  'Founded': 'April 4, 1975; 44 years ago (1975-04-04) in Albuquerque, New Mexico, U.S.',\n",
       "  'Founders': 'Bill Gates,Paul Allen',\n",
       "  'Headquarters': 'One Microsoft Way, Redmond, Washington, U.S.',\n",
       "  'Area served': 'Worldwide',\n",
       "  'Key people': 'John W. Thompson(Chairman),Brad Smith(President),Satya Nadella(CEO),Bill Gates(Technical Advisor)',\n",
       "  'Products': 'Windows,Office,Servers,Skype,Visual Studio,Dynamics,Xbox,Surface,Mobile,List of software',\n",
       "  'Services': 'Azure,Bing,LinkedIn,MSDN,Office 365,OneDrive,Outlook.com,TechNet,Wallet,Windows Store,Windows Update,Xbox Live',\n",
       "  'Revenue': ' US$110.36 billion (2018)',\n",
       "  'Operating income': ' US$35.05 billion (2018)',\n",
       "  'Net income': ' US$16.57 billion (2018)',\n",
       "  'Total assets': ' US$258.84 billion (2018)',\n",
       "  'Total equity': ' US$82.71 billion (2018)',\n",
       "  'Number of employees': ' 134,944 (2018)',\n",
       "  'Subsidiaries': 'List of Microsoft assets',\n",
       "  'Website': 'microsoft.com'},\n",
       " 'GOOGLE': {'Formerly': 'Google Inc. (1998–2017)',\n",
       "  'Type': 'Subsidiary',\n",
       "  'Industry': 'InternetSoftwareComputer hardware',\n",
       "  'Founded': 'September 4, 1998; 20 years ago (1998-09-04) in Menlo Park, California',\n",
       "  'Founders': 'Larry PageSergey Brin',\n",
       "  'Headquarters': '1600 Amphitheatre Parkway, Mountain View, California, U.S.',\n",
       "  'Area served': 'Worldwide',\n",
       "  'Key people': 'Sundar Pichai (CEO)Ruth Porat (CFO)',\n",
       "  'Products': 'List of Google products',\n",
       "  'Number of employees': '98,771 (Q4 2018)',\n",
       "  'Parent': 'Alphabet Inc. (2015–present)',\n",
       "  'Subsidiaries': 'List of subsidiaries',\n",
       "  'Website': 'google.com'}}"
      ]
     },
     "execution_count": 15,
     "metadata": {},
     "output_type": "execute_result"
    }
   ],
   "source": [
    "# get_infobox_for_thread_2\n",
    "dth={}\n",
    "threadlist=[]\n",
    "for i in ['IBM','GOOGLE','Microsoft']:\n",
    "    t = Thread(target=get_infobox_for_thread_2,args=(i,))\n",
    "    t.start()\n",
    "    threadlist.append(t)\n",
    "for i in threadlist:\n",
    "    i.join()\n",
    "dth"
   ]
  },
  {
   "cell_type": "code",
   "execution_count": 16,
   "metadata": {},
   "outputs": [],
   "source": [
    "dth = {}\n",
    "executor = ThreadPoolExecutor(1000)\n",
    "for i in ['IBM','GOOGLE','Microsoft']:\n",
    "    executor.submit(get_infobox_for_thread, i,dth)"
   ]
  },
  {
   "cell_type": "code",
   "execution_count": 18,
   "metadata": {},
   "outputs": [
    {
     "data": {
      "text/plain": [
       "{'IBM': {'Type': 'Public company',\n",
       "  'Traded as': 'NYSE: IBMDJIA ComponentS&P 100 ComponentS&P 500 Component',\n",
       "  'ISIN': 'US4592001014',\n",
       "  'Industry': 'Cloud computingComputer hardwareComputer softwareCognitive computing',\n",
       "  'Founded': 'June 16, 1911; 107 years ago (1911-06-16) (as Computing-Tabulating-Recording Company)Endicott, New York, U.S.',\n",
       "  'Founders': 'Charles Ranlett FlintThomas J. Watson Sr.',\n",
       "  'Headquarters': 'Armonk, New York, U.S.',\n",
       "  'Area served': '177 countries',\n",
       "  'Key people': 'Ginni Rometty(Chairman, President and CEO)',\n",
       "  'Products': 'See IBM products',\n",
       "  'Revenue': ' US$79.59 billion (2018)',\n",
       "  'Operating income': ' US$13.21 billion (2018)',\n",
       "  'Net income': ' US$8.72 billion (2018)',\n",
       "  'Total assets': ' US$123.38 billion (2018)',\n",
       "  'Total equity': ' US$16.79 billion (2018)',\n",
       "  'Number of employees': '350,600 (2018)',\n",
       "  'Website': 'www.ibm.com'},\n",
       " 'Microsoft': {'Type': 'Public',\n",
       "  'Traded as': 'NASDAQ: MSFTNASDAQ-100 componentDJIA componentS&P 100 componentS&P 500 component',\n",
       "  'ISIN': 'US5949181045',\n",
       "  'Industry': 'Computer softwareComputer hardwareConsumer electronicsSocial networking serviceCloud computingVideo gamesInternetCorporate venture capital',\n",
       "  'Founded': 'April 4, 1975; 44 years ago (1975-04-04) in Albuquerque, New Mexico, U.S.',\n",
       "  'Founders': 'Bill Gates,Paul Allen',\n",
       "  'Headquarters': 'One Microsoft Way, Redmond, Washington, U.S.',\n",
       "  'Area served': 'Worldwide',\n",
       "  'Key people': 'John W. Thompson(Chairman),Brad Smith(President),Satya Nadella(CEO),Bill Gates(Technical Advisor)',\n",
       "  'Products': 'Windows,Office,Servers,Skype,Visual Studio,Dynamics,Xbox,Surface,Mobile,List of software',\n",
       "  'Services': 'Azure,Bing,LinkedIn,MSDN,Office 365,OneDrive,Outlook.com,TechNet,Wallet,Windows Store,Windows Update,Xbox Live',\n",
       "  'Revenue': ' US$110.36 billion (2018)',\n",
       "  'Operating income': ' US$35.05 billion (2018)',\n",
       "  'Net income': ' US$16.57 billion (2018)',\n",
       "  'Total assets': ' US$258.84 billion (2018)',\n",
       "  'Total equity': ' US$82.71 billion (2018)',\n",
       "  'Number of employees': ' 134,944 (2018)',\n",
       "  'Subsidiaries': 'List of Microsoft assets',\n",
       "  'Website': 'microsoft.com'},\n",
       " 'GOOGLE': {'Formerly': 'Google Inc. (1998–2017)',\n",
       "  'Type': 'Subsidiary',\n",
       "  'Industry': 'InternetSoftwareComputer hardware',\n",
       "  'Founded': 'September 4, 1998; 20 years ago (1998-09-04) in Menlo Park, California',\n",
       "  'Founders': 'Larry PageSergey Brin',\n",
       "  'Headquarters': '1600 Amphitheatre Parkway, Mountain View, California, U.S.',\n",
       "  'Area served': 'Worldwide',\n",
       "  'Key people': 'Sundar Pichai (CEO)Ruth Porat (CFO)',\n",
       "  'Products': 'List of Google products',\n",
       "  'Number of employees': '98,771 (Q4 2018)',\n",
       "  'Parent': 'Alphabet Inc. (2015–present)',\n",
       "  'Subsidiaries': 'List of subsidiaries',\n",
       "  'Website': 'google.com'}}"
      ]
     },
     "execution_count": 18,
     "metadata": {},
     "output_type": "execute_result"
    }
   ],
   "source": [
    "dth"
   ]
  }
 ],
 "metadata": {
  "kernelspec": {
   "display_name": "Python 3",
   "language": "python",
   "name": "python3"
  },
  "language_info": {
   "codemirror_mode": {
    "name": "ipython",
    "version": 3
   },
   "file_extension": ".py",
   "mimetype": "text/x-python",
   "name": "python",
   "nbconvert_exporter": "python",
   "pygments_lexer": "ipython3",
   "version": "3.7.0"
  },
  "toc": {
   "base_numbering": 1,
   "nav_menu": {},
   "number_sections": true,
   "sideBar": true,
   "skip_h1_title": false,
   "title_cell": "Table of Contents",
   "title_sidebar": "Contents",
   "toc_cell": false,
   "toc_position": {},
   "toc_section_display": true,
   "toc_window_display": false
  }
 },
 "nbformat": 4,
 "nbformat_minor": 2
}
